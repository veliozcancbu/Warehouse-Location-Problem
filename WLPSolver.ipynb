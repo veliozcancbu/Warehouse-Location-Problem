{
 "cells": [
  {
   "cell_type": "code",
   "execution_count": 1,
   "id": "5015dffe",
   "metadata": {},
   "outputs": [
    {
     "name": "stdout",
     "output_type": "stream",
     "text": [
      "41316.0125\n",
      "6 10 3 4 6 12 0 1 6 6 2 3 4 3 5 6 2 7 2 5 2 8 9 3 10 3 11 9 12 13 14 9 14 1 10 10 4 4 6 3 9 2 6 5 11 6 6 5 4 10\n"
     ]
    }
   ],
   "source": [
    "import csv\n",
    "import time\n",
    "\n",
    "def dosyadan_veri_oku(filename):\n",
    "    depolar = []\n",
    "    kisiler = []\n",
    "\n",
    "    try:\n",
    "        with open(filename, \"r\") as csvfile:\n",
    "            reader = csv.reader(csvfile, delimiter=' ')\n",
    "            line = next(reader)\n",
    "            depo_sayi = int(line[0])\n",
    "\n",
    "            for i in range(depo_sayi):\n",
    "                depo = next(reader)\n",
    "                depolar.append([float(depo[0]), float(depo[1]), 0])\n",
    "\n",
    "            for satir in reader:\n",
    "                if len(satir) >= 2:\n",
    "                    kisi = []\n",
    "                    for deger in satir:\n",
    "                        try:\n",
    "                            sayi = int(deger)\n",
    "                        except ValueError:\n",
    "                            try:\n",
    "                                sayi = float(deger)\n",
    "                            except ValueError:\n",
    "                                sayi = deger\n",
    "                        kisi += [sayi]\n",
    "                    kisiler += [kisi]\n",
    "\n",
    "            en_verimli(depo_sayi, depolar, kisiler)\n",
    "\n",
    "    except (FileNotFoundError, IOError) as error:\n",
    "        print(f\"Dosya işlenirken hata oluştu: {str(error)}\")\n",
    "\n",
    "def en_verimli(depo_sayi, depolar, kisiler):\n",
    "    toplam_maliyet = 0\n",
    "    depo_atama = []\n",
    "\n",
    "    for i in range(len(kisiler)):\n",
    "        en_dusuk_maliyet, en_dusuk_index = en_dusuk_mu(kisiler[i])\n",
    "\n",
    "        if depolar[en_dusuk_index-1][0] >= kisiler[i][0]:\n",
    "            if depolar[2][2] == 0:\n",
    "                toplam_maliyet = toplam_maliyet + depolar[1][1]\n",
    "                depolar[2][2] = 1\n",
    "                toplam_maliyet = en_dusuk_maliyet + toplam_maliyet\n",
    "            else:\n",
    "                toplam_maliyet = toplam_maliyet + en_dusuk_maliyet\n",
    "        else:\n",
    "            en_dusuk_maliyet = en_dusuk_mu(kisiler[i])[0]\n",
    "            en_dusuk_index = en_dusuk_mu(kisiler[i])[1]\n",
    "            kisiler[i].remove(kisiler[i][en_dusuk_index])\n",
    "            \n",
    "        depo_atama.append(en_dusuk_index-1) \n",
    "        #depo_atama.append(en_dusuk_index)\n",
    "\n",
    "    print(toplam_maliyet)\n",
    "    print(*depo_atama, sep=' ')\n",
    "\n",
    "\n",
    "def en_dusuk_mu(kisi):\n",
    "    en_dusuk_maliyet = min(kisi[1:])\n",
    "    en_dusuk_index = kisi.index(en_dusuk_maliyet)\n",
    "\n",
    "    return (en_dusuk_maliyet, en_dusuk_index)\n",
    "\n",
    "dosyadan_veri_oku(\"wl_16_1.csv\")\n"
   ]
  },
  {
   "cell_type": "code",
   "execution_count": null,
   "id": "3e261b0a",
   "metadata": {},
   "outputs": [],
   "source": []
  }
 ],
 "metadata": {
  "kernelspec": {
   "display_name": "Python 3 (ipykernel)",
   "language": "python",
   "name": "python3"
  },
  "language_info": {
   "codemirror_mode": {
    "name": "ipython",
    "version": 3
   },
   "file_extension": ".py",
   "mimetype": "text/x-python",
   "name": "python",
   "nbconvert_exporter": "python",
   "pygments_lexer": "ipython3",
   "version": "3.9.13"
  }
 },
 "nbformat": 4,
 "nbformat_minor": 5
}
